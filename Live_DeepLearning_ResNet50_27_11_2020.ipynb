{
  "nbformat": 4,
  "nbformat_minor": 0,
  "metadata": {
    "colab": {
      "name": "Live_DeepLearning_ResNet50_27_11_2020.ipynb",
      "provenance": []
    },
    "kernelspec": {
      "name": "python3",
      "display_name": "Python 3"
    }
  },
  "cells": [
    {
      "cell_type": "code",
      "metadata": {
        "colab": {
          "base_uri": "https://localhost:8080/"
        },
        "id": "P5a3_kFlEDsZ",
        "outputId": "86461c39-ab43-49d7-e98f-44fb8c598de6"
      },
      "source": [
        "from keras.applications.resnet50 import ResNet50\n",
        "from keras.preprocessing import image\n",
        "from keras.applications.resnet50 import preprocess_input, decode_predictions\n",
        "import numpy as np\n",
        "\n",
        "model = ResNet50(weights='imagenet')"
      ],
      "execution_count": 1,
      "outputs": [
        {
          "output_type": "stream",
          "text": [
            "Downloading data from https://storage.googleapis.com/tensorflow/keras-applications/resnet/resnet50_weights_tf_dim_ordering_tf_kernels.h5\n",
            "102973440/102967424 [==============================] - 0s 0us/step\n"
          ],
          "name": "stdout"
        }
      ]
    },
    {
      "cell_type": "code",
      "metadata": {
        "colab": {
          "base_uri": "https://localhost:8080/"
        },
        "id": "uLrVRtaXEfRU",
        "outputId": "084cc2f0-e5c9-48b3-89e3-b0bef91bb440"
      },
      "source": [
        "caminho_imagem = 'imagem3.jpg'\n",
        "\n",
        "imagem = image.load_img(caminho_imagem, target_size=(224, 224))\n",
        "x = image.img_to_array(imagem)\n",
        "x = np.expand_dims(x, axis=0)\n",
        "x = preprocess_input(x)\n",
        "\n",
        "previsoes = model.predict(x)\n",
        "\n",
        "previsoes_ajustadas = decode_predictions(previsoes, top=3)[0]\n",
        "\n",
        "print(f\"Previsão da {caminho_imagem}.\")\n",
        "\n",
        "for _, resultado, porcentagem in previsoes_ajustadas:\n",
        "  print(f\"{resultado} - {porcentagem * 100:.2f}%\")"
      ],
      "execution_count": 11,
      "outputs": [
        {
          "output_type": "stream",
          "text": [
            "Previsão da imagem3.jpg.\n",
            "desktop_computer - 98.76%\n",
            "monitor - 1.20%\n",
            "screen - 0.03%\n"
          ],
          "name": "stdout"
        }
      ]
    }
  ]
}